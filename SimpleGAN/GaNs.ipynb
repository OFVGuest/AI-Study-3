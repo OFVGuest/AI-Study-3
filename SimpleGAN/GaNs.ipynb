{
  "cells": [
    {
      "cell_type": "code",
      "execution_count": 26,
      "metadata": {
        "id": "ij0bAt7nubtS"
      },
      "outputs": [],
      "source": [
        "import torch\n",
        "from torch import nn\n",
        "from torchsummary import summary\n",
        "import matplotlib.pyplot as plt\n",
        "import os"
      ]
    },
    {
      "cell_type": "code",
      "execution_count": 27,
      "metadata": {},
      "outputs": [],
      "source": [
        "device = \"cuda\" if torch.cuda.is_available() else \"cpu\""
      ]
    },
    {
      "cell_type": "code",
      "execution_count": 28,
      "metadata": {
        "id": "ocawqhQ45z9U"
      },
      "outputs": [],
      "source": [
        "discriminator = nn.Sequential(\n",
        " nn.Linear(2, 25),\n",
        " nn.ReLU(),\n",
        " nn.Dropout(0.3),\n",
        " nn.Linear(25, 1),\n",
        " nn.Sigmoid()).to(device)"
      ]
    },
    {
      "cell_type": "code",
      "execution_count": 29,
      "metadata": {
        "id": "MCS3tz1fHXsB"
      },
      "outputs": [],
      "source": [
        "class Generator(nn.Module):\n",
        "    def __init__(self, latent_dim, n_outputs = 2):\n",
        "        super().__init__()\n",
        "        self.l1 = nn.Linear(latent_dim, 15)\n",
        "        self.relu = nn.ReLU()\n",
        "        torch.nn.init.kaiming_normal_(self.l1.weight)\n",
        "        self.l2 = nn.Linear(15, n_outputs)\n",
        "\n",
        "    def forward(self, x):\n",
        "        out = self.relu((self.l1(x)))\n",
        "        out = self.l2(out)\n",
        "        return out"
      ]
    },
    {
      "cell_type": "code",
      "execution_count": 30,
      "metadata": {
        "id": "TKfQ7GhjHpKa"
      },
      "outputs": [],
      "source": [
        "def define_gan(generator, discriminator):\n",
        "\n",
        "    model = nn.Sequential()\n",
        "    model.add_module('generator', generator)\n",
        "    model.add_module('discriminator', discriminator)\n",
        "\n",
        "    criterion = nn.BCELoss()\n",
        "    optimizer = torch.optim.Adam(model.parameters())\n",
        "    return model.to(device), criterion, optimizer"
      ]
    },
    {
      "cell_type": "code",
      "execution_count": 31,
      "metadata": {
        "colab": {
          "base_uri": "https://localhost:8080/"
        },
        "id": "-Qm50miUHbH1",
        "outputId": "43eaf44c-f395-43f8-aca3-ab0841a6e1d4"
      },
      "outputs": [
        {
          "name": "stdout",
          "output_type": "stream",
          "text": [
            "----------------------------------------------------------------\n",
            "        Layer (type)               Output Shape         Param #\n",
            "================================================================\n",
            "            Linear-1                [-1, 1, 15]              90\n",
            "              ReLU-2                [-1, 1, 15]               0\n",
            "            Linear-3                 [-1, 1, 2]              32\n",
            "         Generator-4                 [-1, 1, 2]               0\n",
            "            Linear-5                [-1, 1, 25]              75\n",
            "              ReLU-6                [-1, 1, 25]               0\n",
            "           Dropout-7                [-1, 1, 25]               0\n",
            "            Linear-8                 [-1, 1, 1]              26\n",
            "           Sigmoid-9                 [-1, 1, 1]               0\n",
            "================================================================\n",
            "Total params: 223\n",
            "Trainable params: 223\n",
            "Non-trainable params: 0\n",
            "----------------------------------------------------------------\n",
            "Input size (MB): 0.00\n",
            "Forward/backward pass size (MB): 0.00\n",
            "Params size (MB): 0.00\n",
            "Estimated Total Size (MB): 0.00\n",
            "----------------------------------------------------------------\n"
          ]
        }
      ],
      "source": [
        "generator = Generator(5, n_outputs=2).to(device)\n",
        "gan_model, criterion, optimizer = define_gan(generator, discriminator)\n",
        "summary(gan_model, (1,5))"
      ]
    },
    {
      "cell_type": "code",
      "execution_count": 32,
      "metadata": {
        "id": "JwHAF-ttIjGS"
      },
      "outputs": [],
      "source": [
        "from numpy.random import rand, randn\n",
        "from numpy import hstack, ones, zeros\n",
        "\n",
        "def generate_real_samples(n):\n",
        "  X1 = rand(n) - 0.5\n",
        "  X2 = X1 * X1\n",
        "  X1 = X1.reshape(n, 1)\n",
        "  X2 = X2.reshape(n, 1)\n",
        "  X = hstack((X1, X2))\n",
        "  y = ones((n, 1))\n",
        "  return X, y\n",
        "\n",
        "def generate_latent_points(latent_dim, n):\n",
        "  x_input = randn(latent_dim * n)\n",
        "  x_input = x_input.reshape(n, latent_dim)\n",
        "  return x_input\n",
        "\n",
        "def generate_fake_samples(generator, latent_dim, n):\n",
        "  x_input = generate_latent_points(latent_dim, n)\n",
        "  X = generator(torch.Tensor(x_input).to(device))\n",
        "  y = zeros((n, 1))\n",
        "  return X.cpu().detach().numpy(), y"
      ]
    },
    {
      "cell_type": "code",
      "execution_count": 33,
      "metadata": {
        "id": "Op5Fw4pcCstQ"
      },
      "outputs": [],
      "source": [
        "def summarize_performance(epoch, g_model, d_model, latent_dim, n=100):\n",
        "  x_real, y_real = generate_real_samples(n)\n",
        "  x_fake, y_fake = generate_fake_samples(g_model, latent_dim, n)\n",
        "  g_model.eval()\n",
        "  d_model.eval()\n",
        "  plt.scatter(x_real[:, 0], x_real[:, 1], color=\"red\")\n",
        "  plt.scatter(x_fake[:, 0], x_fake[:, 1], color=\"blue\")\n",
        "  if not os.path.exists('generated'):\n",
        "        os.makedirs('generated')\n",
        "  filename = \"generated/generated_plot_e%03d.png\" % (epoch+1)\n",
        "  plt.savefig(filename)\n",
        "  plt.close()"
      ]
    },
    {
      "cell_type": "code",
      "execution_count": 34,
      "metadata": {
        "id": "gZC0r6rsJoW5"
      },
      "outputs": [],
      "source": [
        "def train(g_model, d_model, gan_model, latent_dim, n_epochs=10000, n_batch=128, n_eval=2000):\n",
        "  d_model_optimizer = torch.optim.Adam(d_model.parameters())\n",
        "  half_batch = int(n_batch / 2)\n",
        "  for i in range(n_epochs):\n",
        "    x_real, y_real = generate_real_samples(half_batch)\n",
        "    x_fake, y_fake = generate_fake_samples(g_model, latent_dim, half_batch)\n",
        "\n",
        "    for param in discriminator.parameters():\n",
        "      param.requires_grad = True\n",
        "\n",
        "    d_model.train()\n",
        "\n",
        "    d_model_outputs = d_model(torch.Tensor(x_real).to(device))\n",
        "    loss = criterion(d_model_outputs, torch.Tensor(y_real).to(device))\n",
        "    d_model_optimizer.zero_grad()\n",
        "    loss.backward()\n",
        "    d_model_optimizer.step()\n",
        "\n",
        "    d_model_outputs = d_model(torch.Tensor(x_fake).to(device))\n",
        "    loss = criterion(d_model_outputs, torch.Tensor(y_fake).to(device))\n",
        "    d_model_optimizer.zero_grad()\n",
        "    loss.backward()\n",
        "    d_model_optimizer.step()\n",
        "\n",
        "    for param in discriminator.parameters():\n",
        "      param.requires_grad = False\n",
        "\n",
        "    x_gan = generate_latent_points(latent_dim, n_batch)\n",
        "    y_gan = ones((n_batch, 1))\n",
        "    gan_model.train()\n",
        "    gan_model_outputs = gan_model(torch.Tensor(x_gan).to(device))\n",
        "    loss = criterion(gan_model_outputs, torch.Tensor(y_gan).to(device))\n",
        "    optimizer.zero_grad()\n",
        "    loss.backward()\n",
        "    optimizer.step()\n",
        "    if (i+1) % n_eval == 0:\n",
        "      summarize_performance(i, g_model, d_model, latent_dim)\n",
        "\n",
        "latent_dim = 5\n",
        "train(generator, discriminator, gan_model, latent_dim, 100000)"
      ]
    },
    {
      "cell_type": "code",
      "execution_count": 35,
      "metadata": {
        "id": "soe12cB4QdzC"
      },
      "outputs": [
        {
          "data": {
            "image/png": "[encoded data removed]",
            "text/plain": [
              "<Figure size 640x480 with 1 Axes>"
            ]
          },
          "metadata": {},
          "output_type": "display_data"
        }
      ],
      "source": [
        "x, _ = generate_real_samples(100)\n",
        "x2, _ = generate_fake_samples(generator, 5, 100)\n",
        "plt.scatter(x2[:,0], x2[:,1], color='red')\n",
        "plt.scatter(x[:,0], x[:,1]);"
      ]
    }
  ],
  "metadata": {
    "colab": {
      "provenance": []
    },
    "kernelspec": {
      "display_name": "Python 3",
      "name": "python3"
    },
    "language_info": {
      "codemirror_mode": {
        "name": "ipython",
        "version": 3
      },
      "file_extension": ".py",
      "mimetype": "text/x-python",
      "name": "python",
      "nbconvert_exporter": "python",
      "pygments_lexer": "ipython3",
      "version": "3.10.11"
    }
  },
  "nbformat": 4,
  "nbformat_minor": 0
}
